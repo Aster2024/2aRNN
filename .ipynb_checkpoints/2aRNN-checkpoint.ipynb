{
 "cells": [
  {
   "cell_type": "markdown",
   "metadata": {},
   "source": [
    "# Train RNN to perform context-dependent decision-making task"
   ]
  },
  {
   "cell_type": "code",
   "execution_count": 1,
   "metadata": {
    "ExecuteTime": {
     "end_time": "2024-12-17T03:39:57.155340Z",
     "start_time": "2024-12-17T03:39:39.251141Z"
    }
   },
   "outputs": [],
   "source": [
    "# import related packages\n",
    "import numpy as np\n",
    "import torch\n",
    "from torch import nn, optim\n",
    "from data import gen_data\n",
    "from model import TwoAreaRNN\n",
    "device = torch.device(\"cuda\" if torch.cuda.is_available() else \"cpu\")"
   ]
  },
  {
   "cell_type": "markdown",
   "metadata": {},
   "source": [
    "## setup task parameters and create RNN"
   ]
  },
  {
   "cell_type": "code",
   "execution_count": 2,
   "metadata": {
    "ExecuteTime": {
     "end_time": "2024-12-17T03:39:57.392563Z",
     "start_time": "2024-12-17T03:39:57.155340Z"
    }
   },
   "outputs": [],
   "source": [
    "# network parameters\n",
    "input_size = 5\n",
    "hidden_size = 100\n",
    "output_size = 2\n",
    "model = TwoAreaRNN(input_size, hidden_size, output_size)\n",
    "model = model.to(device)\n",
    "# task parameters\n",
    "task_timing = [300, 1000, 900, 500] # fixation, stimulus, delay, response"
   ]
  },
  {
   "cell_type": "code",
   "execution_count": null,
   "metadata": {
    "ExecuteTime": {
     "start_time": "2024-12-17T03:39:39.251Z"
    }
   },
   "outputs": [
    {
     "name": "stdout",
     "output_type": "stream",
     "text": [
      "Epoch 0, Loss 0.3487873196601868\n",
      "Epoch 10, Loss 0.05878608226776123\n",
      "Epoch 20, Loss 0.04212033823132515\n",
      "Epoch 30, Loss 0.036071427166461945\n",
      "Epoch 40, Loss 0.030556436628103256\n"
     ]
    }
   ],
   "source": [
    "n_epochs = 100\n",
    "n_trials_per_epoch = 100\n",
    "batch_size = 20\n",
    "num_batches = n_trials_per_epoch // batch_size\n",
    "\n",
    "optimizer = optim.Adam(model.parameters(), lr=1e-3)\n",
    "criterion = nn.MSELoss()\n",
    "loss_list = []\n",
    "for epoch in range(n_epochs):\n",
    "    # randomize the length of delay period for each epoch\n",
    "    task_timing_ = task_timing.copy()\n",
    "    task_timing_[2] = np.random.randint(300, 1500)\n",
    "    x, y, metadata = gen_data(n_trials_per_epoch, timing=task_timing_)\n",
    "    x = torch.from_numpy(x).to(device)\n",
    "    y = torch.from_numpy(y).to(device)\n",
    "    loss_buff = 0\n",
    "    for batch in range(num_batches):\n",
    "        output = model(x[batch*batch_size:(batch+1)*batch_size])\n",
    "        loss = criterion(output, y[batch*batch_size:(batch+1)*batch_size])\n",
    "        loss_buff += loss.item()\n",
    "        optimizer.zero_grad()\n",
    "        loss.backward()\n",
    "        optimizer.step()\n",
    "    loss_list.append(loss_buff/num_batches)\n",
    "    if epoch % 10 == 0:\n",
    "        print(f'Epoch {epoch}, Loss {loss_list[-1]}')"
   ]
  },
  {
   "cell_type": "markdown",
   "metadata": {},
   "source": [
    "## plot training loss"
   ]
  },
  {
   "cell_type": "code",
   "execution_count": null,
   "metadata": {
    "ExecuteTime": {
     "start_time": "2024-12-17T03:39:39.252Z"
    }
   },
   "outputs": [],
   "source": [
    "import matplotlib.pyplot as plt\n",
    "plt.semilogy(loss_list, '-o')\n",
    "plt.xlabel('Epoch')\n",
    "plt.ylabel('Loss')"
   ]
  },
  {
   "cell_type": "markdown",
   "metadata": {},
   "source": [
    "### Test network performances"
   ]
  },
  {
   "cell_type": "code",
   "execution_count": null,
   "metadata": {
    "ExecuteTime": {
     "start_time": "2024-12-17T03:39:39.252Z"
    }
   },
   "outputs": [],
   "source": [
    "with torch.no_grad():\n",
    "    x, y, metadata = gen_data(100, timing=task_timing)\n",
    "    outputs, hs = model(torch.from_numpy(x), return_hidden=True)\n",
    "    outputs = outputs.detach().cpu().numpy()\n",
    "    hs = hs.detach().cpu().numpy()\n",
    "    decisions = np.sign(outputs[:,-1,1])"
   ]
  },
  {
   "cell_type": "code",
   "execution_count": null,
   "metadata": {
    "ExecuteTime": {
     "start_time": "2024-12-17T03:39:39.253Z"
    }
   },
   "outputs": [],
   "source": [
    "# compute the accuracy of RNN decision\n",
    "accuracy = np.mean(decisions == metadata['action'])\n",
    "print(f'Accuracy: {accuracy}')"
   ]
  },
  {
   "cell_type": "code",
   "execution_count": null,
   "metadata": {
    "ExecuteTime": {
     "start_time": "2024-12-17T03:39:39.254Z"
    }
   },
   "outputs": [],
   "source": [
    "fig, ax = plt.subplots(2,1, figsize=(10, 5))\n",
    "t = np.arange(outputs.shape[1]) * 20    # 20 ms per time step\n",
    "ax[0].plot(t, outputs[metadata['action']==-1, :, 0].T, 'b', alpha=0.1)\n",
    "ax[0].plot(t, outputs[metadata['action']==1, :, 0].T, 'r', alpha=0.1)\n",
    "ax[1].plot(t, outputs[metadata['action']==-1, :, 1].T, 'b', alpha=0.1)\n",
    "ax[1].plot(t, outputs[metadata['action']==1, :, 1].T, 'r', alpha=0.1)\n",
    "ax[0].set_xlabel('Time (ms)')\n",
    "ax[0].set_ylabel('Fixation Level')\n",
    "ax[1].set_xlabel('Time (ms)')\n",
    "ax[1].set_ylabel('Response Level')\n",
    "ax[0].set_xlim(0)\n",
    "ax[1].set_xlim(0)\n",
    "plt.tight_layout()"
   ]
  },
  {
   "cell_type": "markdown",
   "metadata": {},
   "source": [
    "## Basic state space analysis"
   ]
  },
  {
   "cell_type": "code",
   "execution_count": null,
   "metadata": {
    "ExecuteTime": {
     "start_time": "2024-12-17T03:39:39.255Z"
    }
   },
   "outputs": [],
   "source": [
    "from sklearn.decomposition import PCA\n",
    "n_pc = 20\n",
    "pca = PCA(n_components=n_pc)\n",
    "hs_pca = pca.fit_transform(hs.reshape(-1, hidden_size)).reshape(hs.shape[0], hs.shape[1], n_pc)\n",
    "plt.figure(figsize=(4,3))\n",
    "plt.plot(np.cumsum(pca.explained_variance_ratio_), '-o')\n",
    "plt.xlabel('No. of Principal Components')\n",
    "plt.ylabel('Explained Variance ratio')"
   ]
  },
  {
   "cell_type": "markdown",
   "metadata": {},
   "source": [
    "## Visualize state space trajectories"
   ]
  },
  {
   "cell_type": "code",
   "execution_count": null,
   "metadata": {
    "ExecuteTime": {
     "start_time": "2024-12-17T03:39:39.256Z"
    }
   },
   "outputs": [],
   "source": [
    "plt.figure(figsize=(6,5))\n",
    "plt.plot(\n",
    "    hs_pca[metadata['action']==-1, :, 0].T,\n",
    "    hs_pca[metadata['action']==-1, :, 1].T,\n",
    "    'b', alpha=0.1);\n",
    "plt.plot(\n",
    "    hs_pca[metadata['action']==1, :, 0].T,\n",
    "    hs_pca[metadata['action']==1, :, 1].T,\n",
    "    'r', alpha=0.1);\n",
    "plt.plot(hs_pca[0, 0, 0], hs_pca[0, 0, 1], 'ko', label='Start')\n",
    "plt.gca().axis('equal')\n",
    "plt.legend()\n",
    "plt.xlabel('PC1')\n",
    "plt.ylabel('PC2')"
   ]
  },
  {
   "cell_type": "code",
   "execution_count": null,
   "metadata": {},
   "outputs": [],
   "source": []
  }
 ],
 "metadata": {
  "kernelspec": {
   "display_name": "Python 3 (ipykernel)",
   "language": "python",
   "name": "python3"
  },
  "language_info": {
   "codemirror_mode": {
    "name": "ipython",
    "version": 3
   },
   "file_extension": ".py",
   "mimetype": "text/x-python",
   "name": "python",
   "nbconvert_exporter": "python",
   "pygments_lexer": "ipython3",
   "version": "3.9.17"
  }
 },
 "nbformat": 4,
 "nbformat_minor": 2
}
